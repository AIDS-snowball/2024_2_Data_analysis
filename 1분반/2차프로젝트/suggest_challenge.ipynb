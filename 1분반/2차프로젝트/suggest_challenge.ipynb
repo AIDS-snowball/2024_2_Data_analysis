{
 "cells": [
  {
   "cell_type": "code",
   "execution_count": 9,
   "metadata": {},
   "outputs": [],
   "source": [
    "keywords_from_hangang = ['가족 및 인간 관계',\n",
    "                         '민주주의',\n",
    "                         '성장',\n",
    "                         '아픔과 회복',\n",
    "                         '역사',\n",
    "                         '한강 작가',\n",
    "                         '노벨상 수상',\n",
    "                         '사람과 사회 이슈',\n",
    "                         '일상과 삶의 반복',\n",
    "                         '폭력의 아픔을 치유',\n",
    "                         '시민 권리',\n",
    "                         '한의 정서와 공감']\n",
    "\n",
    "challenges = [\n",
    "    \"헌혈 캠페인에 참여해 아픔을 나누고 희생을 실천한다.\",\n",
    "    \"자원봉사에 참여해 지역 사회의 아픔과 어려움을 돕는다.\",\n",
    "    \"인권을 주제로 한 지역 토론회에 참여해 더 좋은 세상을 위한 아이디어를 나눈다.\",\n",
    "    \"사회적 메시지를 담은 연극을 보며 사회적 변화를 고민해본다.\",\n",
    "    \"한국 현대 미술관 전시에 참여하고 사회적 메시지와 감정을 이해한다.\",\n",
    "    \"독립기념관 방문 및 독립운동 관련 전시 관람으로 희생과 독립운동의 의미를 되새긴다.\",\n",
    "    \"안중근 의사 기념관을 탐방하고 저항과 희생의 역사를 되새긴다.\",\n",
    "    \"한국 근현대사를 다룬 다큐멘터리나 영화를 관람하고 그 시대에 공감한다.\",\n",
    "    \"전통 예술과 민속 공연을 통해 한의 정서와 고통의 치유를 탐구한다.\",\n",
    "    \"역사적인 장소를 중심으로 한 여행을 통해 기억을 공유하는 경험을 나눈다.\",\n",
    "    \"아트 테라피 세션에 참여해 자신을 표현하고 내면을 탐구한다.\",\n",
    "    \"명상 및 치유 숲 체험 프로그램을 진행하며 스트레스를 해소한다.\",\n",
    "    \"치유에 대한 메시지가 담긴 연극을 관람하며 내면의 상처를 치유한다.\",\n",
    "    \"심리학적 치유 프로그램에 참여해 스트레스와 아픔을 관리하는 법을 익힌다.\"\n",
    "]"
   ]
  },
  {
   "cell_type": "code",
   "execution_count": 11,
   "metadata": {},
   "outputs": [
    {
     "name": "stderr",
     "output_type": "stream",
     "text": [
      "Hardware accelerator e.g. GPU is available in the environment, but no `device` argument is passed to the `Pipeline` object. Model will be on CPU.\n"
     ]
    },
    {
     "name": "stdout",
     "output_type": "stream",
     "text": [
      "{'sequence': \"GB2: ['사진촬영', '공연관람', '독서'], Keywords: 한강 작가, 가족 및 인간 관계, 한의 정서와 공감\", 'labels': ['사회적 메시지를 담은 연극을 보며 사회적 변화를 고민해본다.', '한국 근현대사를 다룬 다큐멘터리나 영화를 관람하고 그 시대에 공감한다.', '한국 현대 미술관 전시에 참여하고 사회적 메시지와 감정을 이해한다.', '인권을 주제로 한 지역 토론회에 참여해 더 좋은 세상을 위한 아이디어를 나눈다.', '역사적인 장소를 중심으로 한 여행을 통해 기억을 공유하는 경험을 나눈다.', '독립기념관 방문 및 독립운동 관련 전시 관람으로 희생과 독립운동의 의미를 되새긴다.', '치유에 대한 메시지가 담긴 연극을 관람하며 내면의 상처를 치유한다.', '명상 및 치유 숲 체험 프로그램을 진행하며 스트레스를 해소한다.', '전통 예술과 민속 공연을 통해 한의 정서와 고통의 치유를 탐구한다.', '안중근 의사 기념관을 탐방하고 저항과 희생의 역사를 되새긴다.', '심리학적 치유 프로그램에 참여해 스트레스와 아픔을 관리하는 법을 익힌다.', '아트 테라피 세션에 참여해 자신을 표현하고 내면을 탐구한다.', '헌혈 캠페인에 참여해 아픔을 나누고 희생을 실천한다.', '자원봉사에 참여해 지역 사회의 아픔과 어려움을 돕는다.'], 'scores': [0.11652828752994537, 0.10683038085699081, 0.10226143151521683, 0.08776199072599411, 0.08219577372074127, 0.07360424101352692, 0.07326571643352509, 0.06765285134315491, 0.06515838205814362, 0.06421191245317459, 0.055116090923547745, 0.037193577736616135, 0.03465594723820686, 0.03356345370411873]}\n",
      "추천 챌린지: 사회적 메시지를 담은 연극을 보며 사회적 변화를 고민해본다.\n"
     ]
    }
   ],
   "source": [
    "from transformers import pipeline\n",
    "import random\n",
    "\n",
    "# Zero-shot classification pipeline 초기화\n",
    "classifier = pipeline(\"zero-shot-classification\", model=\"facebook/bart-large-mnli\")\n",
    "\n",
    "# 0번 클러스터의 관심사 중 상위 3개 추출\n",
    "cluster_0_top_3 = (\n",
    "    df_filtered[df_filtered['cluster'] == 0]['GB2']  # 0번 클러스터 필터링\n",
    "    .value_counts()  # 관심사별 빈도 계산\n",
    "    .head(3)  # 상위 3개 선택\n",
    "    .index.tolist()  # 리스트로 변환\n",
    ")\n",
    "\n",
    "# 키워드 샘플링\n",
    "keywords = random.sample(keywords_from_hangang, 3)\n",
    "\n",
    "# 입력 텍스트 생성\n",
    "input_text = f\"GB2: {cluster_0_top_3}, Keywords: {', '.join(keywords)}\"\n",
    "\n",
    "# Zero-shot classification 실행\n",
    "result = classifier(input_text, challenges)\n",
    "\n",
    "# 결과 출력\n",
    "print(result)\n",
    "recommended_challenge = result[\"labels\"][0]\n",
    "print(f\"추천 챌린지: {recommended_challenge}\")"
   ]
  }
 ],
 "metadata": {
  "kernelspec": {
   "display_name": "24_2_data_analysis",
   "language": "python",
   "name": "python3"
  },
  "language_info": {
   "codemirror_mode": {
    "name": "ipython",
    "version": 3
   },
   "file_extension": ".py",
   "mimetype": "text/x-python",
   "name": "python",
   "nbconvert_exporter": "python",
   "pygments_lexer": "ipython3",
   "version": "3.8.20"
  }
 },
 "nbformat": 4,
 "nbformat_minor": 2
}
