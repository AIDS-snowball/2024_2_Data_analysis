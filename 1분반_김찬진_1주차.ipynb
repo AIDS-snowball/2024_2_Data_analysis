{
  "nbformat": 4,
  "nbformat_minor": 0,
  "metadata": {
    "colab": {
      "provenance": [],
      "authorship_tag": "ABX9TyOsfwKeZiql3YBQrDzJ4OnT",
      "include_colab_link": true
    },
    "kernelspec": {
      "name": "python3",
      "display_name": "Python 3"
    },
    "language_info": {
      "name": "python"
    }
  },
  "cells": [
    {
      "cell_type": "markdown",
      "metadata": {
        "id": "view-in-github",
        "colab_type": "text"
      },
      "source": [
        "<a href=\"https://colab.research.google.com/github/kimchanjini/2024_2_Data_analysis/blob/main/1%EB%B6%84%EB%B0%98_%EA%B9%80%EC%B0%AC%EC%A7%84_1%EC%A3%BC%EC%B0%A8.ipynb\" target=\"_parent\"><img src=\"https://colab.research.google.com/assets/colab-badge.svg\" alt=\"Open In Colab\"/></a>"
      ]
    },
    {
      "cell_type": "code",
      "execution_count": null,
      "metadata": {
        "id": "1FFpYb8PlWhp"
      },
      "outputs": [],
      "source": [
        "print(\"helㄴㅇㅀㄴㅇㅀㄴㅇㄹlo\")"
      ]
    },
    {
      "cell_type": "code",
      "source": [],
      "metadata": {
        "id": "42i0N-BhllZo"
      },
      "execution_count": null,
      "outputs": []
    }
  ]
}