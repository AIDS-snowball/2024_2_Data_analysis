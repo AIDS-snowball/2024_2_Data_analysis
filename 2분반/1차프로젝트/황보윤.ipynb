{
  "metadata": {
    "kernelspec": {
      "display_name": "Python 3",
      "language": "python",
      "name": "python3"
    },
    "language_info": {
      "codemirror_mode": {
        "name": "ipython",
        "version": 3
      },
      "file_extension": ".py",
      "mimetype": "text/x-python",
      "name": "python",
      "nbconvert_exporter": "python",
      "pygments_lexer": "ipython3",
      "version": "3.10.14"
    },
    "papermill": {
      "default_parameters": {},
      "duration": 12.315406,
      "end_time": "2024-10-26T10:11:10.151411",
      "environment_variables": {},
      "exception": null,
      "input_path": "__notebook__.ipynb",
      "output_path": "__notebook__.ipynb",
      "parameters": {},
      "start_time": "2024-10-26T10:10:57.836005",
      "version": "2.6.0"
    },
    "kaggle": {
      "accelerator": "none",
      "dataSources": [
        {
          "sourceId": 9686682,
          "sourceType": "datasetVersion",
          "datasetId": 5921591
        }
      ],
      "dockerImageVersionId": 30786,
      "isInternetEnabled": true,
      "language": "python",
      "sourceType": "notebook",
      "isGpuEnabled": false
    },
    "colab": {
      "name": "Olympics Analysis",
      "provenance": [],
      "include_colab_link": true
    }
  },
  "nbformat_minor": 0,
  "nbformat": 4,
  "cells": [
    {
      "cell_type": "markdown",
      "metadata": {
        "id": "view-in-github",
        "colab_type": "text"
      },
      "source": [
        "<a href=\"https://colab.research.google.com/github/yoonhb7/2024_2_Data_analysis/blob/main/2%EB%B6%84%EB%B0%98/1%EC%B0%A8%ED%94%84%EB%A1%9C%EC%A0%9D%ED%8A%B8/%ED%99%A9%EB%B3%B4%EC%9C%A4.ipynb\" target=\"_parent\"><img src=\"https://colab.research.google.com/assets/colab-badge.svg\" alt=\"Open In Colab\"/></a>"
      ]
    },
    {
      "source": [
        "# IMPORTANT: RUN THIS CELL IN ORDER TO IMPORT YOUR KAGGLE DATA SOURCES,\n",
        "# THEN FEEL FREE TO DELETE THIS CELL.\n",
        "# NOTE: THIS NOTEBOOK ENVIRONMENT DIFFERS FROM KAGGLE'S PYTHON\n",
        "# ENVIRONMENT SO THERE MAY BE MISSING LIBRARIES USED BY YOUR\n",
        "# NOTEBOOK.\n",
        "import kagglehub\n",
        "ernestitus_2024_olympics_medals_vs_gdp_path = kagglehub.dataset_download('ernestitus/2024-olympics-medals-vs-gdp')\n",
        "\n",
        "print('Data source import complete.')\n"
      ],
      "metadata": {
        "id": "-dBIffbA8KET"
      },
      "cell_type": "code",
      "outputs": [],
      "execution_count": null
    },
    {
      "cell_type": "markdown",
      "source": [
        "In the world of sports, the Olympics is the ultimate stage where nations showcase their athletic prowess. But have you ever wondered if there's a correlation between a country's economic power and its Olympic success? Let's dive into the data from the 2024 Olympics and see what insights we can uncover."
      ],
      "metadata": {
        "papermill": {
          "duration": 0.006048,
          "end_time": "2024-10-26T10:11:01.74811",
          "exception": false,
          "start_time": "2024-10-26T10:11:01.742062",
          "status": "completed"
        },
        "tags": [],
        "id": "a7bb94e3"
      }
    },
    {
      "cell_type": "markdown",
      "source": [
        "## Introduction\n",
        "\n",
        "This notebook explores the relationship between a country's GDP and its performance in the 2024 Olympics. We'll analyze the data to see if wealthier countries tend to win more medals, and if so, how strong that correlation is. We'll also look at other factors such as population size and regional differences."
      ],
      "metadata": {
        "papermill": {
          "duration": 0.005659,
          "end_time": "2024-10-26T10:11:01.759555",
          "exception": false,
          "start_time": "2024-10-26T10:11:01.753896",
          "status": "completed"
        },
        "tags": [],
        "id": "d27884ce"
      }
    },
    {
      "cell_type": "code",
      "source": [
        "import pandas as pd\n",
        "\n",
        "import numpy as np\n",
        "\n",
        "import matplotlib.pyplot as plt\n",
        "\n",
        "import seaborn as sns\n",
        "\n",
        "import warnings\n",
        "\n",
        "\n",
        "\n",
        "warnings.filterwarnings('ignore')"
      ],
      "metadata": {
        "execution": {
          "iopub.status.busy": "2024-11-12T19:52:35.043082Z",
          "iopub.execute_input": "2024-11-12T19:52:35.043546Z",
          "iopub.status.idle": "2024-11-12T19:52:39.328466Z",
          "shell.execute_reply.started": "2024-11-12T19:52:35.043499Z",
          "shell.execute_reply": "2024-11-12T19:52:39.327392Z"
        },
        "execution_count": 1,
        "id": "357eeb49",
        "papermill": {
          "duration": 4.098007,
          "end_time": "2024-10-26T10:11:05.86419",
          "exception": false,
          "start_time": "2024-10-26T10:11:01.766183",
          "status": "completed"
        },
        "tags": [],
        "trusted": true
      },
      "outputs": [],
      "execution_count": null
    },
    {
      "cell_type": "code",
      "source": [
        "# Load the dataset\n",
        "\n",
        "file_path = '/kaggle/input/2024-olympics-medals-vs-gdp/olympics.csv'\n",
        "\n",
        "df = pd.read_csv(file_path)\n",
        "\n",
        "df.head()"
      ],
      "metadata": {
        "execution": {
          "iopub.status.busy": "2024-11-12T19:52:39.330501Z",
          "iopub.execute_input": "2024-11-12T19:52:39.331061Z",
          "iopub.status.idle": "2024-11-12T19:52:39.381765Z",
          "shell.execute_reply.started": "2024-11-12T19:52:39.331013Z",
          "shell.execute_reply": "2024-11-12T19:52:39.380264Z"
        },
        "execution_count": 2,
        "id": "e9b0440d",
        "papermill": {
          "duration": 0.07732,
          "end_time": "2024-10-26T10:11:05.946766",
          "exception": false,
          "start_time": "2024-10-26T10:11:05.869446",
          "status": "completed"
        },
        "tags": [],
        "trusted": true
      },
      "outputs": [],
      "execution_count": null
    },
    {
      "cell_type": "markdown",
      "source": [
        "## Data Overview\n",
        "\n",
        "Let's take a closer look at the data to understand its structure and the types of information it contains."
      ],
      "metadata": {
        "papermill": {
          "duration": 0.004903,
          "end_time": "2024-10-26T10:11:05.957257",
          "exception": false,
          "start_time": "2024-10-26T10:11:05.952354",
          "status": "completed"
        },
        "tags": [],
        "id": "83b786db"
      }
    },
    {
      "cell_type": "code",
      "source": [
        "df.info()"
      ],
      "metadata": {
        "execution": {
          "iopub.status.busy": "2024-11-12T19:52:39.383101Z",
          "iopub.execute_input": "2024-11-12T19:52:39.383473Z",
          "iopub.status.idle": "2024-11-12T19:52:39.424038Z",
          "shell.execute_reply.started": "2024-11-12T19:52:39.383433Z",
          "shell.execute_reply": "2024-11-12T19:52:39.422435Z"
        },
        "execution_count": 3,
        "id": "393ba1a2",
        "papermill": {
          "duration": 0.054163,
          "end_time": "2024-10-26T10:11:06.017179",
          "exception": false,
          "start_time": "2024-10-26T10:11:05.963016",
          "status": "completed"
        },
        "tags": [],
        "trusted": true
      },
      "outputs": [],
      "execution_count": null
    },
    {
      "cell_type": "markdown",
      "source": [
        "## Descriptive Statistics\n",
        "\n",
        "Before diving into the analysis, let's get some basic statistics to understand the distribution of the data."
      ],
      "metadata": {
        "papermill": {
          "duration": 0.00675,
          "end_time": "2024-10-26T10:11:06.029578",
          "exception": false,
          "start_time": "2024-10-26T10:11:06.022828",
          "status": "completed"
        },
        "tags": [],
        "id": "987a2301"
      }
    },
    {
      "cell_type": "code",
      "source": [
        "df.describe()"
      ],
      "metadata": {
        "execution": {
          "iopub.status.busy": "2024-11-12T19:52:39.427368Z",
          "iopub.execute_input": "2024-11-12T19:52:39.427856Z",
          "iopub.status.idle": "2024-11-12T19:52:39.475169Z",
          "shell.execute_reply.started": "2024-11-12T19:52:39.427803Z",
          "shell.execute_reply": "2024-11-12T19:52:39.473792Z"
        },
        "execution_count": 4,
        "id": "855eab13",
        "papermill": {
          "duration": 0.083571,
          "end_time": "2024-10-26T10:11:06.119699",
          "exception": false,
          "start_time": "2024-10-26T10:11:06.036128",
          "status": "completed"
        },
        "tags": [],
        "trusted": true
      },
      "outputs": [],
      "execution_count": null
    },
    {
      "cell_type": "markdown",
      "source": [
        "## Correlation Analysis\n",
        "\n",
        "To understand the relationships between numeric variables, we'll create a correlation heatmap. This will help us identify any strong correlations between GDP, population, and medal counts."
      ],
      "metadata": {
        "papermill": {
          "duration": 0.00773,
          "end_time": "2024-10-26T10:11:06.134273",
          "exception": false,
          "start_time": "2024-10-26T10:11:06.126543",
          "status": "completed"
        },
        "tags": [],
        "id": "14af2a35"
      }
    },
    {
      "cell_type": "code",
      "source": [
        "# Select only numeric columns for correlation\n",
        "\n",
        "numeric_df = df.select_dtypes(include=[np.number])\n",
        "\n",
        "\n",
        "\n",
        "# Plot correlation heatmap\n",
        "\n",
        "plt.figure(figsize=(10, 8))\n",
        "\n",
        "sns.heatmap(numeric_df.corr(), annot=True, cmap='coolwarm', fmt='.2f')\n",
        "\n",
        "plt.title('Correlation Heatmap')\n",
        "\n",
        "plt.show()"
      ],
      "metadata": {
        "execution": {
          "iopub.status.busy": "2024-11-12T19:52:39.477545Z",
          "iopub.execute_input": "2024-11-12T19:52:39.478073Z",
          "iopub.status.idle": "2024-11-12T19:52:40.189541Z",
          "shell.execute_reply.started": "2024-11-12T19:52:39.478015Z",
          "shell.execute_reply": "2024-11-12T19:52:40.187953Z"
        },
        "execution_count": 5,
        "id": "88fdb0e1",
        "papermill": {
          "duration": 0.667059,
          "end_time": "2024-10-26T10:11:06.808866",
          "exception": false,
          "start_time": "2024-10-26T10:11:06.141807",
          "status": "completed"
        },
        "tags": [],
        "trusted": true
      },
      "outputs": [],
      "execution_count": null
    },
    {
      "cell_type": "markdown",
      "source": [
        "## GDP vs. Total Medals\n",
        "\n",
        "Let's visualize the relationship between GDP and the total number of medals won by each country."
      ],
      "metadata": {
        "papermill": {
          "duration": 0.007043,
          "end_time": "2024-10-26T10:11:06.82508",
          "exception": false,
          "start_time": "2024-10-26T10:11:06.818037",
          "status": "completed"
        },
        "tags": [],
        "id": "f4b331bc"
      }
    },
    {
      "cell_type": "code",
      "source": [
        "plt.figure(figsize=(12, 6))\n",
        "\n",
        "sns.scatterplot(data=df, x='gdp', y='total', hue='region', size='population', sizes=(20, 200), alpha=0.7)\n",
        "\n",
        "plt.title('GDP vs. Total Medals')\n",
        "\n",
        "plt.xlabel('GDP (in billions)')\n",
        "\n",
        "plt.ylabel('Total Medals')\n",
        "\n",
        "plt.legend(bbox_to_anchor=(1.05, 1), loc='upper left')\n",
        "\n",
        "plt.show()"
      ],
      "metadata": {
        "execution": {
          "iopub.status.busy": "2024-11-12T19:52:40.191559Z",
          "iopub.execute_input": "2024-11-12T19:52:40.192092Z",
          "iopub.status.idle": "2024-11-12T19:52:40.966928Z",
          "shell.execute_reply.started": "2024-11-12T19:52:40.192028Z",
          "shell.execute_reply": "2024-11-12T19:52:40.965672Z"
        },
        "execution_count": 6,
        "id": "53783042",
        "papermill": {
          "duration": 0.824432,
          "end_time": "2024-10-26T10:11:07.656789",
          "exception": false,
          "start_time": "2024-10-26T10:11:06.832357",
          "status": "completed"
        },
        "tags": [],
        "trusted": true
      },
      "outputs": [],
      "execution_count": null
    },
    {
      "cell_type": "markdown",
      "source": [
        "## Population vs. Total Medals\n",
        "\n",
        "Another factor to consider is the population size of each country. Let's see if there's a relationship between population and medal counts."
      ],
      "metadata": {
        "papermill": {
          "duration": 0.007846,
          "end_time": "2024-10-26T10:11:07.673098",
          "exception": false,
          "start_time": "2024-10-26T10:11:07.665252",
          "status": "completed"
        },
        "tags": [],
        "id": "328ff1c8"
      }
    },
    {
      "cell_type": "code",
      "source": [
        "plt.figure(figsize=(12, 6))\n",
        "\n",
        "sns.scatterplot(data=df, x='population', y='total', hue='region', size='gdp', sizes=(20, 200), alpha=0.7)\n",
        "\n",
        "plt.title('Population vs. Total Medals')\n",
        "\n",
        "plt.xlabel('Population (in millions)')\n",
        "\n",
        "plt.ylabel('Total Medals')\n",
        "\n",
        "plt.legend(bbox_to_anchor=(1.05, 1), loc='upper left')\n",
        "\n",
        "plt.show()"
      ],
      "metadata": {
        "execution": {
          "iopub.status.busy": "2024-11-12T19:52:40.968617Z",
          "iopub.execute_input": "2024-11-12T19:52:40.970111Z",
          "iopub.status.idle": "2024-11-12T19:52:41.777381Z",
          "shell.execute_reply.started": "2024-11-12T19:52:40.97004Z",
          "shell.execute_reply": "2024-11-12T19:52:41.776234Z"
        },
        "execution_count": 7,
        "id": "600e1b8a",
        "papermill": {
          "duration": 0.809701,
          "end_time": "2024-10-26T10:11:08.491501",
          "exception": false,
          "start_time": "2024-10-26T10:11:07.6818",
          "status": "completed"
        },
        "tags": [],
        "trusted": true
      },
      "outputs": [],
      "execution_count": null
    },
    {
      "cell_type": "markdown",
      "source": [
        "## Predictive Modeling\n",
        "\n",
        "Given the data, we can attempt to predict the total number of medals a country might win based on its GDP and population. We'll use a simple linear regression model for this task."
      ],
      "metadata": {
        "papermill": {
          "duration": 0.008977,
          "end_time": "2024-10-26T10:11:08.511448",
          "exception": false,
          "start_time": "2024-10-26T10:11:08.502471",
          "status": "completed"
        },
        "tags": [],
        "id": "d69e999c"
      }
    },
    {
      "cell_type": "code",
      "source": [
        "from sklearn.model_selection import train_test_split\n",
        "\n",
        "from sklearn.linear_model import LinearRegression\n",
        "\n",
        "from sklearn.metrics import mean_squared_error, r2_score\n",
        "\n",
        "\n",
        "\n",
        "# Features and target variable\n",
        "\n",
        "X = df[['gdp', 'population']]\n",
        "\n",
        "y = df['total']\n",
        "\n",
        "\n",
        "\n",
        "# Split the data into training and testing sets\n",
        "\n",
        "X_train, X_test, y_train, y_test = train_test_split(X, y, test_size=0.2, random_state=42)\n",
        "\n",
        "\n",
        "\n",
        "# Initialize and train the model\n",
        "\n",
        "model = LinearRegression()\n",
        "\n",
        "model.fit(X_train, y_train)\n",
        "\n",
        "\n",
        "\n",
        "# Make predictions\n",
        "\n",
        "y_pred = model.predict(X_test)\n",
        "\n",
        "\n",
        "\n",
        "# Evaluate the model\n",
        "\n",
        "mse = mean_squared_error(y_test, y_pred)\n",
        "\n",
        "r2 = r2_score(y_test, y_pred)\n",
        "\n",
        "\n",
        "\n",
        "mse, r2"
      ],
      "metadata": {
        "execution": {
          "iopub.status.busy": "2024-11-12T19:52:41.778847Z",
          "iopub.execute_input": "2024-11-12T19:52:41.779246Z",
          "iopub.status.idle": "2024-11-12T19:52:42.269179Z",
          "shell.execute_reply.started": "2024-11-12T19:52:41.779203Z",
          "shell.execute_reply": "2024-11-12T19:52:42.267666Z"
        },
        "execution_count": 8,
        "id": "64206cd1",
        "papermill": {
          "duration": 0.653688,
          "end_time": "2024-10-26T10:11:09.175786",
          "exception": false,
          "start_time": "2024-10-26T10:11:08.522098",
          "status": "completed"
        },
        "tags": [],
        "trusted": true
      },
      "outputs": [],
      "execution_count": null
    },
    {
      "cell_type": "markdown",
      "source": [
        "## Discussion\n",
        "\n",
        "Our analysis reveals some interesting insights into the relationship between a country's GDP, population, and its Olympic success. The correlation heatmap suggests that GDP and population both have a positive correlation with the total number of medals won. However, the strength of these correlations varies.\n",
        "\n",
        "\n",
        "\n",
        "The scatter plots provide a visual representation of these relationships, highlighting regional differences and the impact of population size.\n",
        "\n",
        "\n",
        "\n",
        "The predictive model, while simple, offers a starting point for estimating a country's potential medal count based on economic and demographic factors. The model's performance, as measured by the mean squared error and R-squared value, indicates room for improvement. Future analyses could explore more complex models or additional features to enhance predictive accuracy.\n",
        "\n",
        "\n",
        "\n",
        "If you found this notebook insightful, please consider upvoting it."
      ],
      "metadata": {
        "papermill": {
          "duration": 0.009081,
          "end_time": "2024-10-26T10:11:09.194351",
          "exception": false,
          "start_time": "2024-10-26T10:11:09.18527",
          "status": "completed"
        },
        "tags": [],
        "id": "6c7f9078"
      }
    },
    {
      "cell_type": "markdown",
      "source": [
        "## Credits\n",
        "\n",
        "This notebook was created with the help of [Devra AI data science assistant](https://devra.ai/ref/kaggle)"
      ],
      "metadata": {
        "papermill": {
          "duration": 0.009062,
          "end_time": "2024-10-26T10:11:09.213102",
          "exception": false,
          "start_time": "2024-10-26T10:11:09.20404",
          "status": "completed"
        },
        "tags": [],
        "id": "d341b8b9"
      }
    }
  ]
}